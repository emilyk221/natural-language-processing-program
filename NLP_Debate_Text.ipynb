{
 "cells": [
  {
   "cell_type": "markdown",
   "id": "1ee2adc0",
   "metadata": {},
   "source": [
    "## Natural Language Processing Project"
   ]
  },
  {
   "cell_type": "markdown",
   "id": "eba4672b",
   "metadata": {},
   "source": [
    "Overview:\n",
    "\n",
    "I used python, Pandas, TextBlob, and Textatistic to analyze the transcript of the Trump/Biden 2020 Presidential Debate, splitting text into separate speakers and analyzing the Trump corpus and the Biden corpus separately.\n",
    "\n",
    "I used the 2020 Presidential Debate data set from Kaggle (https://www.kaggle.com/datasets/gpreda/usa-presidential-debate-2020). I have downloaded the data set and am accessing a local copy of the file.\n",
    "\n",
    "I report the top 30 most often used words by each presidential candidate as well as generate a bar chart of these words, report some scores to determine the \"reading level\" of each participant of the debate."
   ]
  },
  {
   "cell_type": "markdown",
   "id": "116fbcba",
   "metadata": {},
   "source": [
    "### Code"
   ]
  },
  {
   "cell_type": "code",
   "execution_count": 1,
   "id": "076c5f0e",
   "metadata": {},
   "outputs": [],
   "source": [
    "# Install necessary dependencies\n",
    "from pathlib import Path   # to open file\n",
    "from textblob import TextBlob\n",
    "from nltk.tokenize import BlanklineTokenizer  # to split into paragraphs\n",
    "from nltk.corpus import stopwords  # stop words to remove\n",
    "from operator import itemgetter\n",
    "import pandas as pd\n",
    "import matplotlib.pyplot as plt\n",
    "from textatistic import Textatistic"
   ]
  },
  {
   "cell_type": "markdown",
   "id": "917d499b",
   "metadata": {},
   "source": [
    "#### First Step: Open the file"
   ]
  },
  {
   "cell_type": "code",
   "execution_count": 2,
   "id": "612fe395",
   "metadata": {},
   "outputs": [],
   "source": [
    "def read_file(filename):\n",
    "    ''' given a file name, read the file, split the text into paragraphs, \n",
    "        and return paragraphs as a list of strings '''\n",
    "    # read file\n",
    "    raw_text = Path(filename).read_text()\n",
    "    # define tokenizer\n",
    "    tokenizer = BlanklineTokenizer()\n",
    "    # create a blob from the raw text\n",
    "    blob = TextBlob(raw_text)\n",
    "    # split text into paragraphs\n",
    "    para_list = blob.tokenize(tokenizer)\n",
    "    \n",
    "    return para_list"
   ]
  },
  {
   "cell_type": "markdown",
   "id": "8594a1d1",
   "metadata": {},
   "source": [
    "##### Manual code test"
   ]
  },
  {
   "cell_type": "code",
   "execution_count": 4,
   "id": "fe54130f",
   "metadata": {},
   "outputs": [],
   "source": [
    "# read_file('presidential_debate_transcript.txt')"
   ]
  },
  {
   "cell_type": "markdown",
   "id": "3b894e0f",
   "metadata": {},
   "source": [
    "#### Second Step:  Data Munging: Split the paragraph list into separate lists for each person speaking"
   ]
  },
  {
   "cell_type": "code",
   "execution_count": 5,
   "id": "60f003e6",
   "metadata": {},
   "outputs": [],
   "source": [
    "def split_into_candidates(list_of_paragraphs):\n",
    "    ''' Looking at just the first word of each paragraph, split them into\n",
    "        lists of paragraphs that BEGIN with TRUMP: and BIDEN:, then return\n",
    "        a two tuple of lists of the paragraphs, with the Trump list first '''\n",
    "    # initialize variables\n",
    "    trump_paras = []\n",
    "    biden_paras = []\n",
    "    # interate through paragraph list\n",
    "    for paragraph in list_of_paragraphs:\n",
    "        # if paragraph starts with trump, add to a list of trump paragraphs\n",
    "        if paragraph.startswith('TRUMP: '):\n",
    "            trump_paras.append(paragraph)\n",
    "        # if paragraph starts with biden, add to a list of biden paragraphs\n",
    "        elif paragraph.startswith('BIDEN: '):\n",
    "            biden_paras.append(paragraph)\n",
    "    \n",
    "    # return tuple of lists, Trump first\n",
    "    return (trump_paras, biden_paras)"
   ]
  },
  {
   "cell_type": "markdown",
   "id": "636e2a1f",
   "metadata": {},
   "source": [
    "##### Manual code test"
   ]
  },
  {
   "cell_type": "code",
   "execution_count": 5,
   "id": "441ecbeb",
   "metadata": {},
   "outputs": [],
   "source": [
    "# paragraphs = read_file('debate_test.txt')\n",
    "\n",
    "# split_into_candidates(paragraphs)"
   ]
  },
  {
   "cell_type": "markdown",
   "id": "ee10a2fd",
   "metadata": {},
   "source": [
    "#### Third Step: More Data Munging: remove stop words and speaker names and the odd word \"n't\""
   ]
  },
  {
   "cell_type": "code",
   "execution_count": 6,
   "id": "795f961b",
   "metadata": {},
   "outputs": [],
   "source": [
    "def clean_corpus(text, candidate_name):\n",
    "    ''' process the text (a list of paragraphs), removing (1) stop words, \n",
    "        (2) the candidates name, and (3) the word \"n't\".  \n",
    "        Return the final list of words.'''\n",
    "    # join paragraphs into one string\n",
    "    delim = ' '\n",
    "    str_text = delim.join(text)\n",
    "    \n",
    "    # create blob from the text (as a string)\n",
    "    candidate_blob = TextBlob(str_text)\n",
    "    \n",
    "    # get list of words and their counts\n",
    "    word_counts = candidate_blob.word_counts.items()\n",
    "    \n",
    "    # remove stop words\n",
    "    stop_words = stopwords.words('english')\n",
    "    words_no_stops = [word for word in word_counts if word[0] not in stop_words]\n",
    "    \n",
    "    # remove candidate name\n",
    "    words_no_name = [word for word in words_no_stops if word[0] != candidate_name.lower()]\n",
    "    \n",
    "    # remove weird word n't\n",
    "    words_final = [word for word in words_no_name if word[0] != \"n't\"]\n",
    "    \n",
    "    return words_final"
   ]
  },
  {
   "cell_type": "markdown",
   "id": "2c681ae1",
   "metadata": {},
   "source": [
    "##### Manual code test"
   ]
  },
  {
   "cell_type": "code",
   "execution_count": 7,
   "id": "d1ecee48",
   "metadata": {},
   "outputs": [],
   "source": [
    "# paragraphs = read_file('debate_test.txt')\n",
    "# split_text = split_into_candidates(paragraphs)\n",
    "\n",
    "# clean_corpus(split_text[1], 'Biden')"
   ]
  },
  {
   "cell_type": "markdown",
   "id": "940a0839",
   "metadata": {},
   "source": [
    "#### Fourth Step: Generate a bar chart for the top 30 words"
   ]
  },
  {
   "cell_type": "code",
   "execution_count": 7,
   "id": "457c9165",
   "metadata": {},
   "outputs": [],
   "source": [
    "def create_bar_chart(word_list, candidate_name):\n",
    "    ''' Plot a bar chart of the top 30 words used by a particular candidate '''\n",
    "    # make candidate name all caps\n",
    "    candidate_name = candidate_name.upper()\n",
    "    # sort list of words from most used to least used\n",
    "    sorted_words = sorted(word_list, key=itemgetter(1), reverse=True)\n",
    "    # select only 30 most often used words\n",
    "    top_30 = sorted_words[0:30]\n",
    "    # create a dataframe from the list of top 30 words and their counts\n",
    "    df = pd.DataFrame(top_30, columns=[candidate_name + ' words', candidate_name + ' count'])\n",
    "    print(\"\\n\", df)\n",
    "    axes = df.plot.bar(x=0, y=1, title='Presidential Debate 2020', legend=False)"
   ]
  },
  {
   "cell_type": "markdown",
   "id": "2eef6ac6",
   "metadata": {},
   "source": [
    "##### Manual code test"
   ]
  },
  {
   "cell_type": "code",
   "execution_count": 9,
   "id": "c57241eb",
   "metadata": {},
   "outputs": [],
   "source": [
    "# paragraphs = read_file('presidential_debate_transcript.txt')\n",
    "# split_text = split_into_candidates(paragraphs)\n",
    "# clean_words = clean_corpus(split_text[0], 'Trump')\n",
    "# create_bar_chart(clean_words, 'Trump')"
   ]
  },
  {
   "cell_type": "markdown",
   "id": "89bf43a8",
   "metadata": {},
   "source": [
    "#### Fifth Step:  Determine the \"reading level\" scores of the debate text of each participant."
   ]
  },
  {
   "cell_type": "code",
   "execution_count": 8,
   "id": "db488d7f",
   "metadata": {},
   "outputs": [],
   "source": [
    "def readability(text_list):\n",
    "    ''' report the 3 readability scores for the given text_string '''\n",
    "    # join paragraphs into one string\n",
    "    delim = ' '\n",
    "    str_text = delim.join(text_list)\n",
    "    \n",
    "    # create Textatistic object\n",
    "    scores = Textatistic(str_text)\n",
    "    \n",
    "    # save the three readability scores in variables\n",
    "    FK = scores.fleschkincaid_score\n",
    "    smog = scores.smog_score\n",
    "    GF = scores.gunningfog_score\n",
    "\n",
    "    return (FK, smog, GF)"
   ]
  },
  {
   "cell_type": "markdown",
   "id": "9a93b62e",
   "metadata": {},
   "source": [
    "##### Manual code test"
   ]
  },
  {
   "cell_type": "code",
   "execution_count": 11,
   "id": "0dad8de1",
   "metadata": {},
   "outputs": [],
   "source": [
    "# paragraphs = read_file('presidential_debate_transcript.txt')\n",
    "# split_text = split_into_candidates(paragraphs)\n",
    "# print(\"TRUMP: \", readability(split_text[0]))\n",
    "# print(\"BIDEN: \", readability(split_text[1]))"
   ]
  },
  {
   "cell_type": "markdown",
   "id": "45becbfb",
   "metadata": {},
   "source": [
    "#### Sixth Step: Pulling it all together in main()"
   ]
  },
  {
   "cell_type": "code",
   "execution_count": 9,
   "id": "2e5913ec",
   "metadata": {},
   "outputs": [],
   "source": [
    "def main():\n",
    "    ''' Obtain a file name from the user, open the file and analyze the text by speaker '''\n",
    "    \n",
    "    while True:\n",
    "        # obtain name of file from user, with error handling\n",
    "        try:\n",
    "            # save file name from user\n",
    "            file = input(\"Enter the name of a file you would like to analyze: \")\n",
    "            # try to open, read file, and tokenize it\n",
    "            paragraphs = read_file(file)\n",
    "        except FileNotFoundError:\n",
    "            print(\"There is no file by that name. Please try again.\")\n",
    "        else:\n",
    "            break\n",
    "        \n",
    "    # split list of paragraphs into two list by which candidate said them\n",
    "    candidates = split_into_candidates(paragraphs)\n",
    "    \n",
    "    # clean corpus for each candidate\n",
    "    trump_words = clean_corpus(candidates[0], \"Trump\")\n",
    "    biden_words = clean_corpus(candidates[1], \"Biden\")\n",
    "    \n",
    "    # create bar chart for each candidate's top 30 words\n",
    "    create_bar_chart(trump_words, \"Trump\")\n",
    "    create_bar_chart(biden_words, \"Biden\")\n",
    "    \n",
    "    # obtain reading level scores for each candidate\n",
    "    trump_scores = readability(candidates[0])\n",
    "    biden_scores = readability(candidates[1])\n",
    "    \n",
    "    # report reading level scores for each candidate\n",
    "    print(f'\\nfor TRUMP: \\nFlesch-Kincaid score: {trump_scores[0]:.2f} \\nSimple Measure of Gobbledygook score: {trump_scores[1]:.2f} \\nGunning Fog score: {trump_scores[2]:.2f}')\n",
    "    print(f'\\nfor BIDEN: \\nFlesch-Kincaid score: {biden_scores[0]:.2f} \\nSimple Measure of Gobbledygook score: {biden_scores[1]:.2f} \\nGunning Fog score: {biden_scores[2]:.2f}')\n"
   ]
  },
  {
   "cell_type": "code",
   "execution_count": 10,
   "id": "4a6a7f38",
   "metadata": {},
   "outputs": [
    {
     "name": "stdout",
     "output_type": "stream",
     "text": [
      "Enter the name of a file you would like to analyze: asdf\n",
      "There is no file by that name. Please try again.\n",
      "Enter the name of a file you would like to analyze: presidential_debate_transcript.txt\n",
      "\n",
      "    TRUMP words  TRUMP count\n",
      "0       people           46\n",
      "1        would           36\n",
      "2         want           33\n",
      "3         know           30\n",
      "4          joe           24\n",
      "5         well           24\n",
      "6         said           24\n",
      "7         look           24\n",
      "8        going           23\n",
      "9        think           22\n",
      "10          go           18\n",
      "11        good           17\n",
      "12     million           17\n",
      "13         got           17\n",
      "14        done           17\n",
      "15        like           16\n",
      "16         say           15\n",
      "17    military           15\n",
      "18        left           15\n",
      "19          ph           14\n",
      "20        tell           14\n",
      "21         see           14\n",
      "22     dollars           14\n",
      "23          oh           14\n",
      "24        much           13\n",
      "25     country           13\n",
      "26         one           13\n",
      "27       never           13\n",
      "28       right           12\n",
      "29      really           12\n",
      "\n",
      "    BIDEN words  BIDEN count\n",
      "0       people           45\n",
      "1        going           25\n",
      "2         true           22\n",
      "3         well           21\n",
      "4         fact           21\n",
      "5          way           21\n",
      "6         said           19\n",
      "7         look           18\n",
      "8         deal           18\n",
      "9         know           17\n",
      "10         get           16\n",
      "11      number           14\n",
      "12        want           13\n",
      "13        plan           13\n",
      "14   president           12\n",
      "15         say           12\n",
      "16         one           12\n",
      "17       would           12\n",
      "18     totally           12\n",
      "19        back           11\n",
      "20        take           11\n",
      "21         tax           11\n",
      "22        make           10\n",
      "23        done           10\n",
      "24        like           10\n",
      "25        vote            9\n",
      "26      states            9\n",
      "27    election            9\n",
      "28        able            9\n",
      "29        care            9\n",
      "\n",
      "for TRUMP: \n",
      "Flesch-Kincaid score: 1.65 \n",
      "Simple Measure of Gobbledygook score: 6.13 \n",
      "Gunning Fog score: 4.48\n",
      "\n",
      "for BIDEN: \n",
      "Flesch-Kincaid score: 2.05 \n",
      "Simple Measure of Gobbledygook score: 6.64 \n",
      "Gunning Fog score: 5.09\n"
     ]
    },
    {
     "data": {
      "image/png": "[encoded data removed]",
      "text/plain": [
       "<Figure size 432x288 with 1 Axes>"
      ]
     },
     "metadata": {
      "needs_background": "light"
     },
     "output_type": "display_data"
    },
    {
     "data": {
      "image/png": "[encoded data removed]",
      "text/plain": [
       "<Figure size 432x288 with 1 Axes>"
      ]
     },
     "metadata": {
      "needs_background": "light"
     },
     "output_type": "display_data"
    }
   ],
   "source": [
    "# Call to main function\n",
    "main()"
   ]
  }
 ],
 "metadata": {
  "kernelspec": {
   "display_name": "Python 3 (ipykernel)",
   "language": "python",
   "name": "python3"
  },
  "language_info": {
   "codemirror_mode": {
    "name": "ipython",
    "version": 3
   },
   "file_extension": ".py",
   "mimetype": "text/x-python",
   "name": "python",
   "nbconvert_exporter": "python",
   "pygments_lexer": "ipython3",
   "version": "3.9.12"
  }
 },
 "nbformat": 4,
 "nbformat_minor": 5
}
